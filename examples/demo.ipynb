{
 "cells": [
  {
   "cell_type": "code",
   "execution_count": 1,
   "metadata": {},
   "outputs": [
    {
     "data": {
      "text/plain": [
       "True"
      ]
     },
     "execution_count": 1,
     "metadata": {},
     "output_type": "execute_result"
    }
   ],
   "source": [
    "import os\n",
    "\n",
    "from dotenv import load_dotenv\n",
    "\n",
    "load_dotenv()"
   ]
  },
  {
   "cell_type": "code",
   "execution_count": 2,
   "metadata": {},
   "outputs": [],
   "source": [
    "from whyhow import WhyHow"
   ]
  },
  {
   "cell_type": "code",
   "execution_count": 3,
   "metadata": {},
   "outputs": [],
   "source": [
    "client = WhyHow(\n",
    "    api_key = os.environ.get(\"WHYHOW_API_KEY\"),\n",
    "    openai_api_key=os.getenv(\"OPENAI_API_KEY\"),\n",
    "    pinecone_api_key=os.getenv(\"PINECONE_API_KEY\"),\n",
    "    neo4j_url=os.getenv(\"NEO4J_URI\"),\n",
    "    neo4j_user=os.getenv(\"NEO4J_USERNAME\"),\n",
    "    neo4j_password=os.getenv(\"NEO4J_PASSWORD\"),\n",
    ")"
   ]
  },
  {
   "cell_type": "code",
   "execution_count": 4,
   "metadata": {},
   "outputs": [],
   "source": [
    "namespace = \"harry_potter_also_again\"\n",
    "documents = [\"../data/05_Harry_Potter_and_the_Order_of_the_Phoenix_by_J.K._Rowling.pdf\"]\n",
    "questions = [\"What does Harry own?\"]"
   ]
  },
  {
   "cell_type": "code",
   "execution_count": 5,
   "metadata": {},
   "outputs": [
    {
     "name": "stdout",
     "output_type": "stream",
     "text": [
      "Your documents are being added in the background.\n"
     ]
    }
   ],
   "source": [
    "# Add documents\n",
    "documents_response = client.graph.add_documents(namespace, documents)\n",
    "print(documents_response)"
   ]
  },
  {
   "cell_type": "code",
   "execution_count": 16,
   "metadata": {},
   "outputs": [
    {
     "name": "stdout",
     "output_type": "stream",
     "text": [
      "Your graph creation has started.\n"
     ]
    }
   ],
   "source": [
    "# Create a graph\n",
    "extracted_graph = client.graph.create_graph(namespace, questions)\n",
    "print(extracted_graph)"
   ]
  },
  {
   "cell_type": "code",
   "execution_count": 17,
   "metadata": {},
   "outputs": [
    {
     "name": "stdout",
     "output_type": "stream",
     "text": [
      "answer='Sirius, Ron, Hermione' cypher_query='MATCH (e1:Entity {name: \"Harry\"})-[:WROTE_TO]->(e2:Entity)\\nRETURN e2.name' context=\"[{'e2.name': 'Sirius'}, {'e2.name': 'Ron'}, {'e2.name': 'Hermione'}]\"\n"
     ]
    }
   ],
   "source": [
    "# Query the graph\n",
    "query = \"Who does Harry write to?\"\n",
    "query_response = client.graph.query_graph(namespace, query)\n",
    "print(query_response)"
   ]
  }
 ],
 "metadata": {
  "kernelspec": {
   "display_name": "venv",
   "language": "python",
   "name": "python3"
  },
  "language_info": {
   "codemirror_mode": {
    "name": "ipython",
    "version": 3
   },
   "file_extension": ".py",
   "mimetype": "text/x-python",
   "name": "python",
   "nbconvert_exporter": "python",
   "pygments_lexer": "ipython3",
   "version": "3.10.13"
  }
 },
 "nbformat": 4,
 "nbformat_minor": 2
}
